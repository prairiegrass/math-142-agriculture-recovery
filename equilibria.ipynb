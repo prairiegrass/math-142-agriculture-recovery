{
 "cells": [
  {
   "cell_type": "code",
   "execution_count": null,
   "metadata": {
    "vscode": {
     "languageId": "plaintext"
    }
   },
   "outputs": [],
   "source": [
    "import sympy as sp\n",
    "\n",
    "init = np.array([0.3, 0.5, 0.15, 0.1, 0.1])\n",
    "b0, b1 = 1., 1.\n",
    "d1, d2, d3 = 0.2, 0.73, 0.338\n",
    "e2, e3, e4 = 0.3, 0.2, 0.12\n",
    "h1, p2, n4 = 0.05, 0.05, 0.05\n",
    "z0, f1, s2 = 0.1, 0.1, 0.048\n",
    "alpha = 0.25\n",
    "T = 100.\n",
    "\n",
    "DC, PP, PC, SC, TC = sp.symbols('DC PP PC SC TC', real=True)\n",
    "\n",
    "state = (DC, PP, PC, SC, TC)\n",
    "\n",
    "params_dict = {\n",
    "    \"b0\": 1.,\n",
    "    \"b1\": 1.,\n",
    "    \"d1\": 0.2,\n",
    "    \"d2\": 0.73,\n",
    "    \"d3\": 0.338,\n",
    "    \"e2\": 0.3,\n",
    "    \"e3\": 0.2,\n",
    "    \"e4\": 0.12,\n",
    "    \"h1\": 0.0,\n",
    "    \"p2\": 0.0,\n",
    "    \"n4\": 0.05,\n",
    "    \"z0\": 0.1,\n",
    "    \"f1\": 0.1,\n",
    "    \"s2\": 0.048,\n",
    "    \"a1\": 1.\n",
    "    }\n",
    "\n",
    "params = {name: sp.symbols(name) for name in params_dict.keys()}\n",
    "\n",
    "b0, b1, a1 = params[\"b0\"], params[\"b1\"], params[\"a1\"]\n",
    "d1, d2, d3 = params[\"d1\"], params[\"d2\"], params[\"d3\"]\n",
    "e2, e3, e4 = params[\"e2\"], params[\"e3\"], params[\"e4\"]\n",
    "h1, p2, n4 = params[\"h1\"], params[\"p2\"], params[\"n4\"]\n",
    "z0, f1, s2 = params[\"z0\"], params[\"f1\"], params[\"s2\"]\n",
    "\n",
    "dDC_dt = DC * ( z0 * (d1*PP + d2*PC + d3*SC + n4*TC) ) * (1 - b1 * DC)\n",
    "dPP_dt = PP * ( a1 * (1 - b1* PP) + f1*DC - (d1 - s2)*PC - h1 )\n",
    "dPC_dt = PC * ( e2*PP - d2*SC - p2 )\n",
    "dSC_dt = SC * ( e3*PC - d3*TC )\n",
    "dTC_dt = TC * ( e4*SC - n4 )\n",
    "\n",
    "odes = (dDC_dt, dPP_dt, dPC_dt, dSC_dt, dTC_dt)\n",
    "\n",
    "# build dX/dt = 0\n",
    "eqns = [sp.Eq(expr, 0) for expr in odes]\n",
    "\n",
    "# put numbers in parameters\n",
    "eqns_num = [eq.subs({params[k]: v for k, v in params_dict.items()}) for eq in eqns]\n",
    "\n",
    "# symbolic solver\n",
    "symbolic_solutions = sp.solve(eqns_num, state, dict=True, simplify=True)\n",
    "print(f\"Symbolic solve returned {len(symbolic_solutions)} candidate solutions.\")\n",
    "print(\"---- symbolic solutions (raw) ----\")\n",
    "for sol in symbolic_solutions:\n",
    "    print(sol)"
   ]
  },
  {
   "cell_type": "code",
   "execution_count": null,
   "metadata": {
    "vscode": {
     "languageId": "plaintext"
    }
   },
   "outputs": [],
   "source": [
    "# Jacobian solver\n",
    "J = sp.Matrix(odes).jacobian(state)\n",
    "print(\"Symbolic Jacobian:\")\n",
    "display(J)"
   ]
  },
  {
   "cell_type": "code",
   "execution_count": null,
   "metadata": {
    "vscode": {
     "languageId": "plaintext"
    }
   },
   "outputs": [],
   "source": [
    "# Numeric Jacobian at equilibrium\n",
    "eq_pt = symbolic_solutions[-1]\n",
    "eq_pt\n",
    "\n",
    "# evaluate Jacobian numerically\n",
    "subs_dict = {params[k]: v for k, v in params_dict.items()}\n",
    "subs_dict.update(eq_pt)\n",
    "\n",
    "# numeric Jacobian\n",
    "J_numeric = np.array(J.subs(subs_dict).evalf(), dtype=float)\n",
    "print(\"Numeric Jacobian at the chosen equilibrium:\\n\", J_numeric)\n",
    "\n",
    "# eigenvalues\n",
    "eigvals = np.linalg.eigvals(J_numeric)\n",
    "print(\"\\nEigenvalues of the Jacobian:\")\n",
    "for ev in eigvals:\n",
    "    print(f\"{ev: .6f}\")"
   ]
  }
 ],
 "metadata": {
  "language_info": {
   "name": "python"
  }
 },
 "nbformat": 4,
 "nbformat_minor": 2
}
